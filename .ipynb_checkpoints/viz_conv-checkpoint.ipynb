{
 "cells": [
  {
   "cell_type": "code",
   "execution_count": 1,
   "metadata": {},
   "outputs": [],
   "source": [
    "%load_ext autoreload\n",
    "%autoreload 2\n",
    "import torch \n",
    "import torch.nn as nn \n",
    "from viz_lib.core import plt, image, images_list"
   ]
  },
  {
   "cell_type": "markdown",
   "metadata": {},
   "source": [
    "Formula:\n",
    "\n",
    "$\\mbox{output} = s (n - 1) + k - 2p$"
   ]
  },
  {
   "cell_type": "code",
   "execution_count": 2,
   "metadata": {},
   "outputs": [
    {
     "name": "stdout",
     "output_type": "stream",
     "text": [
      "p | k | s : output.shape\n",
      "torch.Size([1, 1, 1, 1])\n"
     ]
    },
    {
     "data": {
      "text/plain": [
       "<Figure size 360x0 with 0 Axes>"
      ]
     },
     "metadata": {},
     "output_type": "display_data"
    }
   ],
   "source": [
    "n = 5\n",
    "\n",
    "\n",
    "random_tensor = torch.randn(1, 1, n, n)\n",
    "ones_tensor = torch.ones((1, 1, n, n))\n",
    "# print(f'random_tensor: {random_tensor.shape}')\n",
    "# image(random_tensor[0,0,:,:])\n",
    "# image(ones_tensor[0,0,:,:])\n",
    "\n",
    "paddings = [0, 1, 2]\n",
    "kernel_sizes = [1, 2, 3]\n",
    "strides = [1, 2, 3]\n",
    "\n",
    "print(f'p | k | s : output.shape')\n",
    "outputs = []\n",
    "titles = []\n",
    "for p in paddings:\n",
    "    for k in kernel_sizes:\n",
    "        for s in strides:\n",
    "\n",
    "            upsample_tnsr = nn.ConvTranspose2d(in_channels = 1,\n",
    "                                               out_channels = 1,\n",
    "                                               kernel_size = k,\n",
    "                                               stride = s,\n",
    "                                               padding = p)\n",
    "            print(upsample_tnsr.weight.shape)\n",
    "            break\n",
    "            output = upsample_tnsr(ones_tensor)\n",
    "            titles.append(f'p:{p} | k:{k} | s:{s} : {str(output.shape):>30s}, {s*(n-1)+k-(2*p)}')\n",
    "            outputs.append(output.detach().numpy()[0,0,:,:])\n",
    "        break\n",
    "    break\n",
    "            \n",
    "plt.rcParams['figure.figsize'] = (5, 5*len(outputs))\n",
    "images_list(outputs, titles, cmap='gray', col=True)"
   ]
  },
  {
   "cell_type": "code",
   "execution_count": null,
   "metadata": {},
   "outputs": [],
   "source": []
  }
 ],
 "metadata": {
  "kernelspec": {
   "display_name": "Python 3",
   "language": "python",
   "name": "python3"
  },
  "language_info": {
   "codemirror_mode": {
    "name": "ipython",
    "version": 3
   },
   "file_extension": ".py",
   "mimetype": "text/x-python",
   "name": "python",
   "nbconvert_exporter": "python",
   "pygments_lexer": "ipython3",
   "version": "3.6.8"
  }
 },
 "nbformat": 4,
 "nbformat_minor": 2
}
